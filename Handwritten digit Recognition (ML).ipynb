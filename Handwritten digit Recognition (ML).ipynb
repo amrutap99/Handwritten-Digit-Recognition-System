{
 "cells": [
  {
   "cell_type": "code",
   "execution_count": 1,
   "metadata": {},
   "outputs": [],
   "source": [
    "import tensorflow as tf"
   ]
  },
  {
   "cell_type": "code",
   "execution_count": 2,
   "metadata": {},
   "outputs": [],
   "source": [
    "import gradio as gr"
   ]
  },
  {
   "cell_type": "code",
   "execution_count": 3,
   "metadata": {},
   "outputs": [],
   "source": [
    "(x_train,y_train),(x_test,y_test)=tf.keras.datasets.mnist.load_data()"
   ]
  },
  {
   "cell_type": "code",
   "execution_count": 4,
   "metadata": {},
   "outputs": [],
   "source": [
    "x_train = x_train/255.0\n",
    "x_test = x_test/255.0"
   ]
  },
  {
   "cell_type": "code",
   "execution_count": 5,
   "metadata": {},
   "outputs": [],
   "source": [
    "# Training Model\n",
    "\n",
    "model = tf.keras.models.Sequential([tf.keras.layers.Flatten(input_shape=(28,28)),\n",
    "                                   tf.keras.layers.Dense(128,activation='relu'),\n",
    "                                   tf.keras.layers.Dense(10,activation='softmax')])"
   ]
  },
  {
   "cell_type": "code",
   "execution_count": 6,
   "metadata": {},
   "outputs": [
    {
     "name": "stdout",
     "output_type": "stream",
     "text": [
      "Epoch 1/20\n",
      "1875/1875 [==============================] - 5s 2ms/step - loss: 0.2523 - accuracy: 0.9281 - val_loss: 0.1440 - val_accuracy: 0.9559\n",
      "Epoch 2/20\n",
      "1875/1875 [==============================] - 5s 2ms/step - loss: 0.1110 - accuracy: 0.9669 - val_loss: 0.1035 - val_accuracy: 0.9702\n",
      "Epoch 3/20\n",
      "1875/1875 [==============================] - 5s 2ms/step - loss: 0.0767 - accuracy: 0.9768 - val_loss: 0.0846 - val_accuracy: 0.9738\n",
      "Epoch 4/20\n",
      "1875/1875 [==============================] - 5s 2ms/step - loss: 0.0569 - accuracy: 0.9830 - val_loss: 0.0777 - val_accuracy: 0.9753\n",
      "Epoch 5/20\n",
      "1875/1875 [==============================] - 5s 3ms/step - loss: 0.0441 - accuracy: 0.9865 - val_loss: 0.0715 - val_accuracy: 0.9787\n",
      "Epoch 6/20\n",
      "1875/1875 [==============================] - 5s 2ms/step - loss: 0.0340 - accuracy: 0.9895 - val_loss: 0.0708 - val_accuracy: 0.9795\n",
      "Epoch 7/20\n",
      "1875/1875 [==============================] - 5s 2ms/step - loss: 0.0283 - accuracy: 0.9916 - val_loss: 0.0791 - val_accuracy: 0.9774\n",
      "Epoch 8/20\n",
      "1875/1875 [==============================] - 5s 2ms/step - loss: 0.0214 - accuracy: 0.9937 - val_loss: 0.0760 - val_accuracy: 0.9783\n",
      "Epoch 9/20\n",
      "1875/1875 [==============================] - 5s 2ms/step - loss: 0.0172 - accuracy: 0.9947 - val_loss: 0.0784 - val_accuracy: 0.9779\n",
      "Epoch 10/20\n",
      "1875/1875 [==============================] - 5s 2ms/step - loss: 0.0149 - accuracy: 0.9954 - val_loss: 0.1025 - val_accuracy: 0.9721\n",
      "Epoch 11/20\n",
      "1875/1875 [==============================] - 5s 2ms/step - loss: 0.0131 - accuracy: 0.9960 - val_loss: 0.0917 - val_accuracy: 0.9771\n",
      "Epoch 12/20\n",
      "1875/1875 [==============================] - 5s 3ms/step - loss: 0.0105 - accuracy: 0.9970 - val_loss: 0.0886 - val_accuracy: 0.9788\n",
      "Epoch 13/20\n",
      "1875/1875 [==============================] - 5s 2ms/step - loss: 0.0100 - accuracy: 0.9970 - val_loss: 0.0828 - val_accuracy: 0.9797\n",
      "Epoch 14/20\n",
      "1875/1875 [==============================] - 5s 3ms/step - loss: 0.0083 - accuracy: 0.9977 - val_loss: 0.0847 - val_accuracy: 0.9794\n",
      "Epoch 15/20\n",
      "1875/1875 [==============================] - 5s 3ms/step - loss: 0.0071 - accuracy: 0.9977 - val_loss: 0.0950 - val_accuracy: 0.9779\n",
      "Epoch 16/20\n",
      "1875/1875 [==============================] - 5s 2ms/step - loss: 0.0063 - accuracy: 0.9980 - val_loss: 0.1006 - val_accuracy: 0.9776\n",
      "Epoch 17/20\n",
      "1875/1875 [==============================] - 5s 2ms/step - loss: 0.0088 - accuracy: 0.9972 - val_loss: 0.1167 - val_accuracy: 0.9772\n",
      "Epoch 18/20\n",
      "1875/1875 [==============================] - 5s 2ms/step - loss: 0.0041 - accuracy: 0.9989 - val_loss: 0.0945 - val_accuracy: 0.9797\n",
      "Epoch 19/20\n",
      "1875/1875 [==============================] - 5s 2ms/step - loss: 0.0072 - accuracy: 0.9977 - val_loss: 0.1222 - val_accuracy: 0.9763\n",
      "Epoch 20/20\n",
      "1875/1875 [==============================] - 5s 3ms/step - loss: 0.0041 - accuracy: 0.9989 - val_loss: 0.1154 - val_accuracy: 0.9758\n"
     ]
    },
    {
     "data": {
      "text/plain": [
       "<tensorflow.python.keras.callbacks.History at 0x70d990c730>"
      ]
     },
     "execution_count": 6,
     "metadata": {},
     "output_type": "execute_result"
    }
   ],
   "source": [
    "model.compile(optimizer='adam',loss='sparse_categorical_crossentropy',metrics=['accuracy'])\n",
    "model.fit(x_train,y_train,validation_data=(x_test,y_test),epochs=20)"
   ]
  },
  {
   "cell_type": "code",
   "execution_count": 7,
   "metadata": {},
   "outputs": [],
   "source": [
    "# Creating GUI\n",
    "\n",
    "def classify(image):\n",
    "    prediction=model.predict(image).tolist()[0]\n",
    "    return {str(i):prediction[i] for i in range(10)}\n",
    "\n",
    "sketchpad =gr.inputs.Sketchpad()\n",
    "label=gr.outputs.Label(num_top_classes=3)\n",
    "interface = gr.Interface(classify,sketchpad,label,live=True,capture_session=True)"
   ]
  },
  {
   "cell_type": "code",
   "execution_count": 13,
   "metadata": {},
   "outputs": [
    {
     "name": "stdout",
     "output_type": "stream",
     "text": [
      "Running locally at: http://127.0.0.1:7865/\n"
     ]
    },
    {
     "data": {
      "text/html": [
       "\n",
       "        <iframe\n",
       "            width=\"1000\"\n",
       "            height=\"500\"\n",
       "            src=\"http://127.0.0.1:7865/\"\n",
       "            frameborder=\"0\"\n",
       "            allowfullscreen\n",
       "        ></iframe>\n",
       "        "
      ],
      "text/plain": [
       "<IPython.lib.display.IFrame at 0x70d7a8f550>"
      ]
     },
     "metadata": {},
     "output_type": "display_data"
    },
    {
     "data": {
      "text/plain": [
       "(<gradio.networking.serve_files_in_background.<locals>.HTTPServer at 0x708b6ddee0>,\n",
       " 'http://127.0.0.1:7865/',\n",
       " None)"
      ]
     },
     "execution_count": 13,
     "metadata": {},
     "output_type": "execute_result"
    }
   ],
   "source": [
    "# launch\n",
    "\n",
    "interface.launch()"
   ]
  },
  {
   "cell_type": "code",
   "execution_count": null,
   "metadata": {},
   "outputs": [],
   "source": []
  }
 ],
 "metadata": {
  "kernelspec": {
   "display_name": "Python 3",
   "language": "python",
   "name": "python3"
  },
  "language_info": {
   "codemirror_mode": {
    "name": "ipython",
    "version": 3
   },
   "file_extension": ".py",
   "mimetype": "text/x-python",
   "name": "python",
   "nbconvert_exporter": "python",
   "pygments_lexer": "ipython3",
   "version": "3.8.3"
  }
 },
 "nbformat": 4,
 "nbformat_minor": 4
}
